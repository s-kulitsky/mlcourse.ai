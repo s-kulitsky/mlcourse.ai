{
 "cells": [
  {
   "cell_type": "code",
   "execution_count": 89,
   "metadata": {},
   "outputs": [
    {
     "name": "stdout",
     "output_type": "stream",
     "text": [
      "10 and 11\n",
      "2.6\n",
      "181.9 and 9.2\n",
      "Bobsleigh\n",
      "3\n",
      "2\n",
      "Yes\n",
      "[45, 55) and [25, 35) correspondingly\n",
      "No, Yes\n",
      "34\n"
     ]
    }
   ],
   "source": [
    "import pandas as pd\n",
    "PATH = '/mnt/d/Temp/machine/athlete_events.csv'\n",
    "data = pd.read_csv(PATH)\n",
    "\n",
    "#1:\n",
    "print(\"%d and %d\" % (data[data['Sex'] == 'M']['Age'].min(), data[data['Sex'] == 'F']['Age'].min()))\n",
    "\n",
    "#2:\n",
    "unique_data = data.drop_duplicates(subset=['Name'])\n",
    "print((unique_data[unique_data['Sex'] == 'M']['Sport'].value_counts(normalize=True).loc['Gymnastics'] * 100).round(1))\n",
    "\n",
    "#3:\n",
    "basketball_data = unique_data[(unique_data['Sex'] == 'F') & (unique_data['Sport'] == 'Basketball') & (unique_data['Year'] == 2000)]\n",
    "print(\"%.1f and %.1f\" % (basketball_data['Height'].mean().round(1), basketball_data['Height'].std().round(1)))\n",
    "\n",
    "#4:\n",
    "print(data[data['Year'] == 2002].sort_values(by = 'Weight', ascending = False).iloc[0].loc['Sport'])\n",
    "\n",
    "#5:\n",
    "print(len(data[data['Name'] == 'Pawe Abratkiewicz'].drop_duplicates(subset=['Year']).index))\n",
    "\n",
    "#6:\n",
    "print(len(data[(data['Team'] == 'Australia') & (data['Year'] == 2000) & (data['Sport'] == 'Tennis') & (data['Medal'] == 'Silver')].index))\n",
    "\n",
    "#7:\n",
    "medals2016 = data[data['Year'] == 2016].dropna(subset=['Medal'])\n",
    "if (len(medals2016[medals2016['Team'] == 'Switzerland'].index) < len(medals2016[medals2016['Team'] == 'Serbia'].index)):\n",
    "    print('Yes')\n",
    "else:\n",
    "    print('No')\n",
    "    \n",
    "#8\n",
    "sportsmen2014 = data[data['Year'] == 2014].drop_duplicates(subset=['Name'])\n",
    "sportsmen2014['Age Interval'] = pd.cut(sportsmen2014.Age, [15, 25, 35, 45, 55], right = False)\n",
    "groups = sportsmen2014.groupby(['Age Interval'], as_index=False).size().sort_values()\n",
    "print(\"%s and %s correspondingly\" % (groups[groups == groups.iloc[0]].index[0], groups[groups == groups.iloc[-1]].index[0]))\n",
    "    \n",
    "#9:\n",
    "lake_placid = data[(data['Season'] == 'Summer') & (data['City'] == 'Lake Placid')]\n",
    "sankt_moritz = data[(data['Season'] == 'Winter') & (data['City'] == 'Sankt Moritz')]\n",
    "print(\"%s, %s\" % ('No' if lake_placid.empty else 'Yes', 'No' if sankt_moritz.empty else 'Yes'))\n",
    "    \n",
    "#10:\n",
    "print(abs(len(data[data['Year'] == 1995].drop_duplicates(subset=['Sport']).index) - len(data[data['Year'] == 2016].drop_duplicates(subset=['Sport']).index)))\n",
    "\n",
    "\n",
    "\n",
    "\n",
    "\n",
    "\n",
    "\n",
    "\n"
   ]
  },
  {
   "cell_type": "code",
   "execution_count": null,
   "metadata": {},
   "outputs": [],
   "source": []
  },
  {
   "cell_type": "code",
   "execution_count": null,
   "metadata": {},
   "outputs": [],
   "source": []
  }
 ],
 "metadata": {
  "kernelspec": {
   "display_name": "Python 2",
   "language": "python",
   "name": "python2"
  },
  "language_info": {
   "codemirror_mode": {
    "name": "ipython",
    "version": 2
   },
   "file_extension": ".py",
   "mimetype": "text/x-python",
   "name": "python",
   "nbconvert_exporter": "python",
   "pygments_lexer": "ipython2",
   "version": "2.7.12"
  }
 },
 "nbformat": 4,
 "nbformat_minor": 2
}
